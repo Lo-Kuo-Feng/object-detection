{
 "cells": [
  {
   "cell_type": "code",
   "execution_count": 1,
   "metadata": {},
   "outputs": [
    {
     "name": "stderr",
     "output_type": "stream",
     "text": [
      "C:\\Users\\user\\Anaconda3\\lib\\site-packages\\h5py\\__init__.py:34: FutureWarning: Conversion of the second argument of issubdtype from `float` to `np.floating` is deprecated. In future, it will be treated as `np.float64 == np.dtype(float).type`.\n",
      "  from ._conv import register_converters as _register_converters\n",
      "Using TensorFlow backend.\n"
     ]
    },
    {
     "name": "stdout",
     "output_type": "stream",
     "text": [
      "person : 51.548510789871216\n",
      "person : 53.83772253990173\n",
      "handbag : 50.37878155708313\n",
      "backpack : 51.52853727340698\n",
      "person : 58.50973129272461\n",
      "person : 81.32631778717041\n",
      "handbag : 56.66646361351013\n",
      "person : 50.05139112472534\n",
      "handbag : 55.208730697631836\n",
      "person : 60.06952524185181\n",
      "person : 63.11119794845581\n",
      "person : 76.65383815765381\n",
      "person : 78.0105710029602\n",
      "person : 61.19207739830017\n",
      "person : 50.94004273414612\n",
      "person : 77.09077596664429\n",
      "person : 59.185791015625\n",
      "person : 81.1451256275177\n",
      "person : 60.00761389732361\n",
      "person : 59.45811867713928\n",
      "person : 61.14618182182312\n",
      "person : 57.106781005859375\n",
      "person : 72.40418791770935\n",
      "person : 64.87530469894409\n",
      "person : 62.07271218299866\n",
      "person : 85.5651319026947\n",
      "person : 93.96722316741943\n",
      "person : 55.4455041885376\n",
      "person : 80.86362481117249\n"
     ]
    }
   ],
   "source": [
    "from imageai.Detection import ObjectDetection\n",
    "import os\n",
    "execution_path = os.getcwd()\n",
    "detector = ObjectDetection()\n",
    "detector.setModelTypeAsRetinaNet()\n",
    "detector.setModelPath( os.path.join(execution_path , \"resnet50_coco_best_v2.1.0.h5\"))\n",
    "detector.loadModel()\n",
    "\n",
    "detections = detector.detectObjectsFromImage(input_image=os.path.join(execution_path , \"image.jpg\"), output_image_path=os.path.join(execution_path , \"imagenew.jpg\"))\n",
    "for eachObject in detections:\n",
    "    print(eachObject[\"name\"] + \" : \" + str(eachObject[\"percentage_probability\"]))"
   ]
  },
  {
   "cell_type": "code",
   "execution_count": null,
   "metadata": {
    "collapsed": true
   },
   "outputs": [],
   "source": []
  }
 ],
 "metadata": {
  "kernelspec": {
   "display_name": "Python 3",
   "language": "python",
   "name": "python3"
  },
  "language_info": {
   "codemirror_mode": {
    "name": "ipython",
    "version": 3
   },
   "file_extension": ".py",
   "mimetype": "text/x-python",
   "name": "python",
   "nbconvert_exporter": "python",
   "pygments_lexer": "ipython3",
   "version": "3.6.3"
  }
 },
 "nbformat": 4,
 "nbformat_minor": 2
}
